{
 "cells": [
  {
   "cell_type": "code",
   "execution_count": 1,
   "metadata": {},
   "outputs": [
    {
     "data": {
      "text/plain": [
       "array([['.', '.', '.', ..., '.', '.', '.'],\n",
       "       ['.', '.', '.', ..., '9', '.', '.'],\n",
       "       ['.', '.', '.', ..., '.', '.', '.'],\n",
       "       ...,\n",
       "       ['.', '.', '.', ..., '.', '.', '.'],\n",
       "       ['.', '.', '.', ..., '.', '.', '.'],\n",
       "       ['.', '.', '.', ..., '.', '.', '.']], dtype='<U1')"
      ]
     },
     "execution_count": 1,
     "metadata": {},
     "output_type": "execute_result"
    }
   ],
   "source": [
    "import re\n",
    "import numpy as np\n",
    "import collections\n",
    "puzzle_file = open(\"puzzle.txt\", \"r\")\n",
    "puzzle_input = puzzle_file.readlines()\n",
    "puzzle_data = [s.strip() for s in puzzle_input]\n",
    "puzzle_data = [list(x) for x in puzzle_data]\n",
    "puzzle_data = np.array(puzzle_data)\n",
    "puzzle_data"
   ]
  },
  {
   "cell_type": "code",
   "execution_count": 2,
   "metadata": {},
   "outputs": [],
   "source": [
    "# def account_for_symbols(string):\n",
    "#   for char in string:\n",
    "#     if char != '.' and not char.isalnum():\n",
    "#       return True\n",
    "#   return False\n",
    "# string_integers = re.findall(r'\\d+', puzzle_data[0])\n",
    "# string_integers\n",
    "\n",
    "# def get_index_of_integer(string, integer):\n",
    "#   return string.index(integer)\n",
    "\n",
    "def get_spec_char_location(matrix):\n",
    "  acc = []\n",
    "  for i in range(len(matrix)):\n",
    "    for j in range(len(matrix[i])):\n",
    "      if matrix[i][j] != '.' and not matrix[i][j].isalnum():\n",
    "        acc.append((i, j))\n",
    "  return acc\n",
    "\n",
    "special_char_locations = get_spec_char_location(puzzle_data)"
   ]
  },
  {
   "cell_type": "code",
   "execution_count": 3,
   "metadata": {},
   "outputs": [],
   "source": [
    "def traverse_coord(matrix, coord):\n",
    "  i, j = coord\n",
    "  top_left = (i-1, j-1)\n",
    "  top = (i-1, j)\n",
    "  top_right = (i-1, j+1)\n",
    "  left = (i, j-1)\n",
    "  right = (i, j+1)\n",
    "  bottom_left = (i+1, j-1)\n",
    "  bottom = (i+1, j)\n",
    "  bottom_right = (i+1, j+1)\n",
    "  return [top_left, top, top_right, left, right, bottom_left, bottom, bottom_right]\n",
    "\n",
    "possible_nums = traverse_coord(puzzle_data, (1,15))\n",
    "value_list = [puzzle_data[i][j] for i, j in possible_nums]\n",
    "\n",
    "def get_all_values_from_coord(matrix, coord):\n",
    "  around_special_char_list = traverse_coord(matrix, coord)"
   ]
  },
  {
   "cell_type": "code",
   "execution_count": 5,
   "metadata": {},
   "outputs": [
    {
     "data": {
      "text/plain": [
       "deque(['8', '2', '6'])"
      ]
     },
     "execution_count": 5,
     "metadata": {},
     "output_type": "execute_result"
    }
   ],
   "source": [
    "def get_right_side_of_number_from_list(row, row_index, column, dequeue, visited):\n",
    "  visited.append((row_index, column))\n",
    "  de = collections.deque(dequeue)\n",
    "  \n",
    "  # If the value is at the end of the row or the next value is a dot\n",
    "  if column + 1 >= len(row) or row[column + 1] == '.' or not row[column + 1].isalnum(): \n",
    "    return de\n",
    "  else:\n",
    "    de.append(row[column + 1])\n",
    "    return get_right_side_of_number_from_list(row, row_index, column + 1, de, visited)\n",
    "  return de\n",
    " \n",
    "# Check if there is a number to the left of it\n",
    "def get_left_side_of_number_from_list(row, row_index, column, dequeue, visited):\n",
    "  visited.append((row_index, column))\n",
    "  de = collections.deque(dequeue)\n",
    "  if (column - 1) < 0 or row[column - 1] == '.' or not row[column - 1].isalnum():\n",
    "    return de\n",
    "  else:\n",
    "    de.appendleft(row[column - 1])\n",
    "    return get_left_side_of_number_from_list(row, row_index, column - 1,de, visited)\n",
    "  return de\n",
    "\n",
    "# Given a number that we know is in an array, find the full numb\n",
    "def get_full_number_from_list(row, row_index, column, visited):\n",
    "  de = collections.deque([])\n",
    "  left_side = get_left_side_of_number_from_list(row, row_index, column, de, visited)\n",
    "  right_side = get_right_side_of_number_from_list(row, row_index, column, de, visited)\n",
    "  return left_side + collections.deque([row[column]]) + right_side\n",
    "\n",
    "get_full_number_from_list(puzzle_data[0],0, 126, [])\n"
   ]
  },
  {
   "cell_type": "code",
   "execution_count": 7,
   "metadata": {},
   "outputs": [
    {
     "data": {
      "text/plain": [
       "521515"
      ]
     },
     "execution_count": 7,
     "metadata": {},
     "output_type": "execute_result"
    }
   ],
   "source": [
    "def solution(puzzle_data):\n",
    "  special_char_locations = get_spec_char_location(puzzle_data)\n",
    "  visited = []\n",
    "  acc = 0\n",
    "  for coord in special_char_locations:\n",
    "    i, j = coord\n",
    "    sorrounding_values = traverse_coord(puzzle_data, coord)\n",
    "    for value_coord in sorrounding_values:\n",
    "      k, l = value_coord\n",
    "      if puzzle_data[k][l].isnumeric() and (k, l) not in visited:\n",
    "        visited.append((k, l))\n",
    "        full_valid_number = get_full_number_from_list(puzzle_data[k], k, l, visited)\n",
    "        string_acc = ''\n",
    "        for num in full_valid_number:\n",
    "          string_acc += num\n",
    "        final_number = int(string_acc)\n",
    "        acc += final_number\n",
    "  return acc\n",
    "\n",
    "solution(puzzle_data)"
   ]
  },
  {
   "cell_type": "code",
   "execution_count": 13,
   "metadata": {},
   "outputs": [
    {
     "data": {
      "text/plain": [
       "['0', '.', '.', '.', '.', '9', '7', '6']"
      ]
     },
     "execution_count": 13,
     "metadata": {},
     "output_type": "execute_result"
    }
   ],
   "source": [
    "# Part Two\n",
    "def get_spec_multiplying_character_location(matrix):\n",
    "  acc = []\n",
    "  for i in range(len(matrix)):\n",
    "    for j in range(len(matrix[i])):\n",
    "      if matrix[i][j] == '*':\n",
    "        acc.append((i, j))\n",
    "  return acc\n",
    "\n",
    "special_char_locations = get_spec_char_location(puzzle_data)\n",
    "special_char_locations\n",
    "\n",
    "# Traverse the coordinate and get the values\n",
    "points_around_mulitplying_char = traverse_coord(puzzle_data, (1, 15))\n",
    "value_list = [puzzle_data[i][j] for i, j in points_around_mulitplying_char]\n",
    "value_list"
   ]
  },
  {
   "cell_type": "code",
   "execution_count": 16,
   "metadata": {},
   "outputs": [
    {
     "data": {
      "text/plain": [
       "69527306"
      ]
     },
     "execution_count": 16,
     "metadata": {},
     "output_type": "execute_result"
    }
   ],
   "source": [
    "def solution2(puzzle_data):\n",
    "  special_char_locations = get_spec_multiplying_character_location(puzzle_data)\n",
    "  visited = []\n",
    "  acc = 0\n",
    "  for coord in special_char_locations:\n",
    "    i, j = coord\n",
    "    sorrounding_values = traverse_coord(puzzle_data, coord)\n",
    "    mult_values = [] \n",
    "    for value_coord in sorrounding_values:\n",
    "      k, l = value_coord\n",
    "      if puzzle_data[k][l].isnumeric() and (k, l) not in visited:\n",
    "        visited.append((k, l))\n",
    "        full_valid_number = get_full_number_from_list(puzzle_data[k], k, l, visited)\n",
    "        string_acc = ''\n",
    "        for num in full_valid_number:\n",
    "          string_acc += num\n",
    "        final_number = int(string_acc)\n",
    "        mult_values.append(final_number)\n",
    "    if len(mult_values) == 2:\n",
    "      acc += mult_values[0] * mult_values[1]\n",
    "  return acc\n",
    "\n",
    "solution2(puzzle_data)"
   ]
  }
 ],
 "metadata": {
  "kernelspec": {
   "display_name": "Python 3",
   "language": "python",
   "name": "python3"
  },
  "language_info": {
   "codemirror_mode": {
    "name": "ipython",
    "version": 3
   },
   "file_extension": ".py",
   "mimetype": "text/x-python",
   "name": "python",
   "nbconvert_exporter": "python",
   "pygments_lexer": "ipython3",
   "version": "3.9.6"
  }
 },
 "nbformat": 4,
 "nbformat_minor": 2
}
