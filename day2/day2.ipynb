{
 "cells": [
  {
   "cell_type": "code",
   "execution_count": null,
   "metadata": {},
   "outputs": [],
   "source": [
    "puzzle_file = open('puzzle.txt', 'r')\n",
    "puzzle_data_unformatted = puzzle_file.readlines()\n",
    "puzzle_data_unformatted"
   ]
  },
  {
   "cell_type": "code",
   "execution_count": null,
   "metadata": {},
   "outputs": [],
   "source": [
    "puzzle_data = [s.strip() for s in puzzle_data_unformatted]\n",
    "# Remember to add 1 to the index to get the actual position\n",
    "game_data = [x.split(':')[1] for x in puzzle_data]\n",
    "game_data"
   ]
  },
  {
   "cell_type": "code",
   "execution_count": 44,
   "metadata": {},
   "outputs": [
    {
     "data": {
      "text/plain": [
       "True"
      ]
     },
     "execution_count": 44,
     "metadata": {},
     "output_type": "execute_result"
    }
   ],
   "source": [
    "# Game_process is a dict with {color: [ int rules]} and game is a string with the game instructions\n",
    "def is_game_valid(game, game_process):\n",
    "  formatted_game = game.split(';')\n",
    "  \n",
    "  formatted_game = [x.strip().split(', ') for x in formatted_game]\n",
    "  reformatted_game_attempts = []\n",
    "  for game_attempt in formatted_game:\n",
    "    reformatted_game_attempt = {}\n",
    "    for game_rule in game_attempt:\n",
    "      reformatted_game_attempt[game_rule.split(' ')[1]] = int(game_rule.split(' ')[0])\n",
    "    reformatted_game_attempts.append(reformatted_game_attempt)\n",
    "    for color in reformatted_game_attempt.keys():\n",
    "      if color not in game_process.keys():\n",
    "        return False\n",
    "      if reformatted_game_attempt[color] > game_process[color]:\n",
    "        return False\n",
    "  return True\n",
    "game_process = {'red': 12, 'green': 13, 'blue': 14}\n",
    "game  \n",
    "is_game_valid(game_data[0], game_process)"
   ]
  },
  {
   "cell_type": "code",
   "execution_count": 57,
   "metadata": {},
   "outputs": [
    {
     "data": {
      "text/plain": [
       "36"
      ]
     },
     "execution_count": 57,
     "metadata": {},
     "output_type": "execute_result"
    }
   ],
   "source": [
    "acc = 0 \n",
    "for i in range(len(game_data)):\n",
    "  if is_game_valid(game_data[i], game_process):\n",
    "    acc += i+1\n",
    "\n",
    "acc\n",
    "\n",
    "def power_of_min_number_of_cubes(game, game_process):\n",
    "  formatted_game = game.split(';')\n",
    "  \n",
    "  formatted_game = [x.strip().split(', ') for x in formatted_game]\n",
    "  reformatted_game_attempts = []\n",
    "  for game_attempt in formatted_game:\n",
    "    reformatted_game_attempt = {}\n",
    "    for game_rule in game_attempt:\n",
    "      reformatted_game_attempt[game_rule.split(' ')[1]] = int(game_rule.split(' ')[0])\n",
    "    reformatted_game_attempts.append(reformatted_game_attempt)\n",
    "  min_dict = {}\n",
    "  for attempt in reformatted_game_attempts:\n",
    "    for color in attempt.keys():\n",
    "      if color not in min_dict.keys():\n",
    "        min_dict[color] = attempt[color]\n",
    "      else:\n",
    "        if attempt[color] > min_dict[color]:\n",
    "          min_dict[color] = attempt[color]\n",
    "  return min_dict['red']*min_dict['green']*min_dict['blue']\n",
    "\n",
    "power_of_min_number_of_cubes(game_data[0], game_process)"
   ]
  },
  {
   "cell_type": "code",
   "execution_count": 58,
   "metadata": {},
   "outputs": [
    {
     "data": {
      "text/plain": [
       "60948"
      ]
     },
     "execution_count": 58,
     "metadata": {},
     "output_type": "execute_result"
    }
   ],
   "source": [
    "acc2 = 0 \n",
    "for i in range(len(game_data)):\n",
    "  acc2 += power_of_min_number_of_cubes(game_data[i], game_process)\n",
    "\n",
    "acc2"
   ]
  }
 ],
 "metadata": {
  "kernelspec": {
   "display_name": "Python 3",
   "language": "python",
   "name": "python3"
  },
  "language_info": {
   "codemirror_mode": {
    "name": "ipython",
    "version": 3
   },
   "file_extension": ".py",
   "mimetype": "text/x-python",
   "name": "python",
   "nbconvert_exporter": "python",
   "pygments_lexer": "ipython3",
   "version": "3.11.5"
  }
 },
 "nbformat": 4,
 "nbformat_minor": 2
}
